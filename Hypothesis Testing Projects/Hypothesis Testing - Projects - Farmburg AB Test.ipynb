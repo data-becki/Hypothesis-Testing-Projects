{
 "cells": [
  {
   "cell_type": "markdown",
   "id": "2ef38698",
   "metadata": {},
   "source": [
    "## Analyzing Farmburg's A/B Test\n",
    "\n",
    "Brian is a Product Manager at FarmBurg, a company that makes a farming simulation social network game. In the FarmBurg game, you can plow, plant, and harvest different crops. Brian has been conducting an A/B Test with three different variants, and he wants you to help him analyze the results. Using the Python modules pandas and SciPy, you will help him make some important business decisions!"
   ]
  },
  {
   "cell_type": "code",
   "execution_count": 1,
   "id": "fb803d2c",
   "metadata": {},
   "outputs": [],
   "source": [
    "import pandas as pd\n",
    "import numpy as np\n",
    "import seaborn as sns\n",
    "import matplotlib.pyplot as plt"
   ]
  },
  {
   "cell_type": "markdown",
   "id": "0d11550f",
   "metadata": {},
   "source": [
    "## Project Requirements\n",
    "1. Brian ran an A/B test with three different groups: A, B, and C. He has provided us with a CSV file of his results named **clicks.csv**. It has the following columns:\n",
    "\n",
    "    -    `user_id`: a unique id for each visitor to the FarmBurg site\n",
    "    -    `group`: either `'A', 'B', or 'C'` depending on which group the visitor was assigned to\n",
    "    -    `is_purchase`: either `'Yes'` if the visitor made a purchase or `'No'` if they did not.\n",
    "\n",
    "   We’ve already imported `pandas` as `pd` and loaded `clicks.csv` as `abdata`. Inspect the data using the `.head()` method.\n"
   ]
  },
  {
   "cell_type": "code",
   "execution_count": 2,
   "id": "e41f84d7",
   "metadata": {},
   "outputs": [
    {
     "data": {
      "text/html": [
       "<div>\n",
       "<style scoped>\n",
       "    .dataframe tbody tr th:only-of-type {\n",
       "        vertical-align: middle;\n",
       "    }\n",
       "\n",
       "    .dataframe tbody tr th {\n",
       "        vertical-align: top;\n",
       "    }\n",
       "\n",
       "    .dataframe thead th {\n",
       "        text-align: right;\n",
       "    }\n",
       "</style>\n",
       "<table border=\"1\" class=\"dataframe\">\n",
       "  <thead>\n",
       "    <tr style=\"text-align: right;\">\n",
       "      <th></th>\n",
       "      <th>user_id</th>\n",
       "      <th>group</th>\n",
       "      <th>is_purchase</th>\n",
       "    </tr>\n",
       "  </thead>\n",
       "  <tbody>\n",
       "    <tr>\n",
       "      <th>0</th>\n",
       "      <td>8e27bf9a</td>\n",
       "      <td>A</td>\n",
       "      <td>No</td>\n",
       "    </tr>\n",
       "    <tr>\n",
       "      <th>1</th>\n",
       "      <td>eb89e6f0</td>\n",
       "      <td>A</td>\n",
       "      <td>No</td>\n",
       "    </tr>\n",
       "    <tr>\n",
       "      <th>2</th>\n",
       "      <td>7119106a</td>\n",
       "      <td>A</td>\n",
       "      <td>No</td>\n",
       "    </tr>\n",
       "    <tr>\n",
       "      <th>3</th>\n",
       "      <td>e53781ff</td>\n",
       "      <td>A</td>\n",
       "      <td>No</td>\n",
       "    </tr>\n",
       "    <tr>\n",
       "      <th>4</th>\n",
       "      <td>02d48cf1</td>\n",
       "      <td>A</td>\n",
       "      <td>Yes</td>\n",
       "    </tr>\n",
       "  </tbody>\n",
       "</table>\n",
       "</div>"
      ],
      "text/plain": [
       "    user_id group is_purchase\n",
       "0  8e27bf9a     A          No\n",
       "1  eb89e6f0     A          No\n",
       "2  7119106a     A          No\n",
       "3  e53781ff     A          No\n",
       "4  02d48cf1     A         Yes"
      ]
     },
     "execution_count": 2,
     "metadata": {},
     "output_type": "execute_result"
    }
   ],
   "source": [
    "# Read in the `clicks.csv` file as `abdata`\n",
    "abdata = pd.read_csv('clicks.csv')\n",
    "abdata.head()"
   ]
  },
  {
   "cell_type": "markdown",
   "id": "0b1d0eff",
   "metadata": {},
   "source": [
    "2. Note that we have two categorical variables: `group` and `is_purchase`. We are interested in whether visitors are more likely to make a purchase if they are in any one group compared to the others. Because we want to know if there is an association between two categorical variables, we’ll start by using a Chi-Square test to address our question.\n",
    "\n",
    "    In order to run a Chi-Square test, we first need to create a contingency table of the variables `group` and `is_purchase`. Use `pd.crosstab()` to create this table and name the result `Xtab`, then print it out. Which group appears to have the highest number of purchases?\n"
   ]
  },
  {
   "cell_type": "code",
   "execution_count": 3,
   "id": "5a9e7603",
   "metadata": {},
   "outputs": [
    {
     "name": "stdout",
     "output_type": "stream",
     "text": [
      "is_purchase    No  Yes\n",
      "group                 \n",
      "A            1350  316\n",
      "B            1483  183\n",
      "C            1583   83\n"
     ]
    }
   ],
   "source": [
    "Xtab = pd.crosstab(abdata.group, abdata.is_purchase)\n",
    "print(Xtab)"
   ]
  },
  {
   "cell_type": "markdown",
   "id": "810f17ea",
   "metadata": {},
   "source": [
    "3. To conduct the Chi-Square Test, import `chi2_contingency` from `scipy.stats`.\n",
    "\n",
    "    Then, use the function `chi2_contingency` with the data in `Xtab` to calculate the p-value. Remember that of the four values returned by `chi2_contingency`, the p-value is the second value.\n",
    "\n",
    "    Save the p-value to a variable named `pval` and print the result. Using a significance threshold of 0.05, is there a significant difference in the purchase rate for groups A, B, and C?\n",
    "\n",
    "    Note that you might see a number in scientific notation. For example, `1.234e-8` is equal to `0.00000001234` (we move the decimal to the left by 8 places and insert zeros).\n"
   ]
  },
  {
   "cell_type": "code",
   "execution_count": 4,
   "id": "9970190c",
   "metadata": {},
   "outputs": [
    {
     "name": "stdout",
     "output_type": "stream",
     "text": [
      "2.4126213546684264e-35 indicates a significant difference between at least one pair.\n"
     ]
    }
   ],
   "source": [
    "from scipy.stats import chi2_contingency\n",
    "\n",
    "chi2, pval, dof, expected = chi2_contingency(Xtab)\n",
    "if pval < 0.05:\n",
    "    print(str(pval) + ' indicates a significant difference between at least one pair.')\n",
    "else:\n",
    "    print(str(pval) + ' indicates no significant difference between any pairs.')"
   ]
  },
  {
   "cell_type": "markdown",
   "id": "b770a5ab",
   "metadata": {},
   "source": [
    "4. Our day is a little less busy than expected, so we decide to ask Brian about his test.\n",
    "\n",
    "   **Us**: Hey Brian! What was that test you were running anyway?\n",
    "\n",
    "   **Brian**: We are trying to get users to purchase a small FarmBurg upgrade package. It’s called a microtransaction. We’re not sure how much to charge for it, so we tested three different price points: \\\\$0.99 (group 'A'), \\\\$1.99 (group 'B'), and \\\\$4.99 (group 'C'). It looks like significantly more people bought the upgrade package for \\\\$0.99, so I guess that’s what we’ll charge.\n",
    "\n",
    "    **Us**: Oh no! We should have asked you this before we did that Chi-Square test. That wasn’t the right test at all. It’s true that more people wanted to purchase the upgrade at \\$0.99; you probably expected that. What we really want to know is whether each price point allows us to make enough money that we can exceed some target goal. Brian, how much do you think it cost to build this feature?\n",
    "\n",
    "    **Brian**: Hmm. I guess that we need to generate a minimum of \\$1000 in revenue per week in order to justify this project.\n",
    "\n",
    "    **Us**: We have some work to do!\n",
    "\n",
    "    In order to justify this feature, we will need to calculate the necessary purchase rate for each price point. Let’s start by calculating the number of visitors to the site this week.\n",
    "\n",
    "    It turns out that Brian ran his original test over the course of a week, so the number of visitors in `abdata` is equal to the number of visitors in a typical week. Calculate the number of visitors in the data and save the value in a variable named `num_visits`. Make sure to print the value."
   ]
  },
  {
   "cell_type": "code",
   "execution_count": 8,
   "id": "ff2e903c",
   "metadata": {},
   "outputs": [
    {
     "name": "stdout",
     "output_type": "stream",
     "text": [
      "The number of visitors in a typical week is 4998.\n"
     ]
    }
   ],
   "source": [
    "num_visits = len(abdata)\n",
    "print('The number of visitors in a typical week is ' + str(num_visits) + '.')"
   ]
  },
  {
   "cell_type": "markdown",
   "id": "ef4a11ff",
   "metadata": {},
   "source": [
    "5. Now that we know how many visitors we generally get each week (`num_visits`), we need to calculate the number of visitors who would need to purchase the upgrade package at each price point (\\\\$0.99, \\\\$1.99, \\\\$4.99) in order to generate Brian’s minimum revenue target of \\\\$1,000 per week.\n",
    "\n",
    "   To start, calculate the number of sales that would be needed to reach \\\\$1,000 dollars of revenue at a price point of \\\\$0.99. Save the result as `num_sales_needed_099` and print it out.\n"
   ]
  },
  {
   "cell_type": "code",
   "execution_count": 12,
   "id": "7d8daf83",
   "metadata": {},
   "outputs": [
    {
     "name": "stdout",
     "output_type": "stream",
     "text": [
      "The number of visitors who need to purchase the $.99 upgrade package to hit the minimum revenue target is 1010.\n"
     ]
    }
   ],
   "source": [
    "num_sales_needed_099 = 1000 / 0.99\n",
    "print('The number of visitors who need to purchase the $.99 upgrade package to hit the minimum revenue target is ' + str(round(num_sales_needed_099)) + '.')"
   ]
  },
  {
   "cell_type": "markdown",
   "id": "b92c99e4",
   "metadata": {},
   "source": [
    "6. Now that we know how many sales we need at a \\\\$0.99 price point, calculate the proportion of weekly visitors who would need to make a purchase in order to meet that goal. Remember that the number of weekly visitors is saved as `num_visit`s. Save the result as `p_sales_needed_099` and print it out."
   ]
  },
  {
   "cell_type": "code",
   "execution_count": 14,
   "id": "f0f81c48",
   "metadata": {},
   "outputs": [
    {
     "name": "stdout",
     "output_type": "stream",
     "text": [
      "The proportion of weekly visitors who make a purchase needed to reach goal is 0.202.\n"
     ]
    }
   ],
   "source": [
    "p_sales_needed_099 = num_sales_needed_099 / num_visits\n",
    "print('The proportion of weekly visitors who make a purchase needed to reach goal is ' + str(round(p_sales_needed_099,3)) + '.')"
   ]
  },
  {
   "cell_type": "markdown",
   "id": "3718a4e6",
   "metadata": {},
   "source": [
    "7. Repeat the steps from tasks 5 and 6 for the other price points ($1.99 and $4.99). Save the number of sales needed for each price point as `num_sales_needed_199` and `num_sales_needed_499`, respectively. Then, save the proportion of visits needed as `p_sales_needed_199` and `p_sales_needed_499`, respectively.\n",
    "\n",
    "Print out the proportions. Note that for higher price points, you’ll need to sell fewer upgrade packages in order to meet your minimum revenue target — so the proportions should decrease as the price points increase.\n"
   ]
  },
  {
   "cell_type": "code",
   "execution_count": 14,
   "id": "273d597b",
   "metadata": {},
   "outputs": [
    {
     "name": "stdout",
     "output_type": "stream",
     "text": [
      "502.51256281407035\n",
      "0.10054272965467594\n"
     ]
    }
   ],
   "source": [
    "num_sales_needed_199 = 1000 / 1.99\n",
    "print(num_sales_needed_199)\n",
    "\n",
    "p_sales_needed_199 = num_sales_needed_199 / num_visits\n",
    "print(p_sales_needed_199)"
   ]
  },
  {
   "cell_type": "code",
   "execution_count": 16,
   "id": "1bfade66",
   "metadata": {},
   "outputs": [
    {
     "name": "stdout",
     "output_type": "stream",
     "text": [
      "200.40080160320642\n",
      "0.040096198800161346\n"
     ]
    }
   ],
   "source": [
    "num_sales_needed_499 = 1000 / 4.99\n",
    "print(num_sales_needed_499)\n",
    "\n",
    "p_sales_needed_499 = num_sales_needed_499 / num_visits\n",
    "print(p_sales_needed_499)"
   ]
  },
  {
   "cell_type": "markdown",
   "id": "250f3d72",
   "metadata": {},
   "source": [
    "8. Now let’s return to Brian’s question. To start, we want to know if the percent of Group A (the \\\\$0.99 price point) that purchased an upgrade package is significantly greater than `p_sales_needed_099` (the percent of visitors who need to buy an upgrade package at \\\\$0.99 in order to make our minimum revenue target of \\\\$1,000).\n",
    "\n",
    "To answer this question, we want to focus on just the visitors in group A. Then, we want to compare the number of purchases in that group to `p_sales_needed_099`.\n",
    "\n",
    "Since we have a single sample of categorical data and want to compare it to a hypothetical population value, a binomial test is appropriate. In order to run a binomial test for group A, we need to know two pieces of information:\n",
    "\n",
    "-   The number of visitors in group A (the number of visitors who were offered the \\\\$0.99 price point)\n",
    "-   The number of visitors in Group A who made a purchase\n",
    "\n",
    "Calculate these two numbers and save them as `samp_size_099` and `sales_099`, respectively. Note that you can use the contingency table that you printed earlier to get these numbers OR you can use Python syntax.\n"
   ]
  },
  {
   "cell_type": "code",
   "execution_count": 18,
   "id": "7297f16e",
   "metadata": {},
   "outputs": [
    {
     "name": "stdout",
     "output_type": "stream",
     "text": [
      "1666 316\n"
     ]
    }
   ],
   "source": [
    "samp_size_099 = np.sum(abdata.group == 'A')\n",
    "sales_099 = np.sum((abdata.group == 'A') & (abdata.is_purchase == 'Yes'))\n",
    "print(samp_size_099, sales_099)"
   ]
  },
  {
   "cell_type": "markdown",
   "id": "6552287e",
   "metadata": {},
   "source": [
    "9. Calculate the sample size and number of purchases in group B (the \\$1.99 price point) and save them as `samp_size_199` and `sales_199`, respectively. Then do the same for group C (the \\$4.99 price point) and save them as `samp_size_499` and `sales_499`, respectively."
   ]
  },
  {
   "cell_type": "code",
   "execution_count": 21,
   "id": "39f9a1b8",
   "metadata": {},
   "outputs": [
    {
     "name": "stdout",
     "output_type": "stream",
     "text": [
      "1666 183\n"
     ]
    }
   ],
   "source": [
    "samp_size_199 = np.sum(abdata.group == 'B')\n",
    "sales_199 = np.sum((abdata.group == 'B') & (abdata.is_purchase == 'Yes'))\n",
    "print(samp_size_199, sales_199)"
   ]
  },
  {
   "cell_type": "code",
   "execution_count": 22,
   "id": "c851db70",
   "metadata": {},
   "outputs": [
    {
     "name": "stdout",
     "output_type": "stream",
     "text": [
      "1666 83\n"
     ]
    }
   ],
   "source": [
    "samp_size_499 = np.sum(abdata.group == 'C')\n",
    "sales_499 = np.sum((abdata.group == 'C') & (abdata.is_purchase == 'Yes'))\n",
    "print(samp_size_499, sales_499)"
   ]
  },
  {
   "cell_type": "markdown",
   "id": "fc8ddb5e",
   "metadata": {},
   "source": [
    "10. For Group A (\\$0.99 price point), perform a binomial test using `binom_test()` to see if the observed purchase rate is significantly greater than `p_sales_needed_099`. Remember that there are four inputs to `binom_test()`:\n",
    "\n",
    "-   `x` will be the number of purchases for Group A\n",
    "-   `n` will be the total number of visitors assigned group A\n",
    "-   `p` will be the target percent of purchases for the $0.99 price point\n",
    "-   `alternative` will indicate the alternative hypothesis for this test; in this case, we want to know if the observed purchase rate is significantly `'greater'` than the purchase rate that results in the minimum revenue target.\n",
    "\n",
    "Save the results to `pvalueA`, and print its value. Note that you’ll first need to import the `binom_test()` function from scipy.stats using the following line of code:\n",
    "\n",
    "`from scipy.stats import binom_test`"
   ]
  },
  {
   "cell_type": "code",
   "execution_count": 33,
   "id": "39393c39",
   "metadata": {},
   "outputs": [
    {
     "name": "stdout",
     "output_type": "stream",
     "text": [
      "0.9028081076188554 indicates observed purchase rate is not significantly greater than needed sales.\n"
     ]
    }
   ],
   "source": [
    "from scipy.stats import binom_test\n",
    "\n",
    "pvalueA = binom_test(sales_099, samp_size_099, p_sales_needed_099, alternative = 'greater')\n",
    "if pvalueA < 0.05:\n",
    "    print(str(pvalueA) + ' indicates observed purchase rate is significantly greater than needed sales.')\n",
    "else:\n",
    "    print(str(pvalueA) + ' indicates observed purchase rate is not significantly greater than needed sales.')"
   ]
  },
  {
   "cell_type": "markdown",
   "id": "06cd3c1e",
   "metadata": {},
   "source": [
    "11. For Group B (\\$1.99 price point), perform a binomial test to see if the observed purchase rate is significantly greater than `p_sales_needed_199`.\n",
    "\n",
    "Save the results to `pvalueB`, and print its value.\n"
   ]
  },
  {
   "cell_type": "code",
   "execution_count": 30,
   "id": "1dc34503",
   "metadata": {},
   "outputs": [
    {
     "name": "stdout",
     "output_type": "stream",
     "text": [
      "0.11184562623740614 indicates observed purchase rate is not significantly greater than needed sales.\n"
     ]
    }
   ],
   "source": [
    "pvalueB = binom_test(sales_199, samp_size_199, p_sales_needed_199, alternative = 'greater')\n",
    "\n",
    "if pvalueB < 0.05:\n",
    "    print(str(pvalueB) + ' indicates observed purchase rate is significantly greater than needed sales.')\n",
    "else:\n",
    "    print(str(pvalueB) + ' indicates observed purchase rate is not significantly greater than needed sales.')"
   ]
  },
  {
   "cell_type": "markdown",
   "id": "43089e30",
   "metadata": {},
   "source": [
    "12. For Group C (\\$4.99 price point), perform a binomial test to see if the observed purchase rate is significantly greater than `p_sales_needed_499`.\n",
    "\n",
    "Save the results to `pvalueC`, and print its value.\n"
   ]
  },
  {
   "cell_type": "code",
   "execution_count": 29,
   "id": "522f8297",
   "metadata": {},
   "outputs": [
    {
     "name": "stdout",
     "output_type": "stream",
     "text": [
      "0.02794482665983064 indicates observed purchase rate is significantly greater than needed sales.\n"
     ]
    }
   ],
   "source": [
    "pvalueC = binom_test(sales_499, samp_size_499, p_sales_needed_499, alternative = 'greater')\n",
    "if pvalueC < 0.05:\n",
    "    print(str(pvalueC) + ' indicates observed purchase rate is significantly greater than needed sales.')\n",
    "else:\n",
    "    print(str(pvalueC) + ' indicates observed purchase rate is not significantly greater than needed sales.')"
   ]
  },
  {
   "cell_type": "markdown",
   "id": "ea47954d",
   "metadata": {},
   "source": [
    "13. Based on the three p-values you calculated for the binomial tests in each group and a significance threshold of 0.05, were there any groups where the purchase rate was significantly higher than the target? Based on this information, what price should Brian charge for the upgrade package?\n",
    "\n",
    "Yes, go with the 4.99 package."
   ]
  }
 ],
 "metadata": {
  "kernelspec": {
   "display_name": "Python 3 (ipykernel)",
   "language": "python",
   "name": "python3"
  },
  "language_info": {
   "codemirror_mode": {
    "name": "ipython",
    "version": 3
   },
   "file_extension": ".py",
   "mimetype": "text/x-python",
   "name": "python",
   "nbconvert_exporter": "python",
   "pygments_lexer": "ipython3",
   "version": "3.9.7"
  }
 },
 "nbformat": 4,
 "nbformat_minor": 5
}
