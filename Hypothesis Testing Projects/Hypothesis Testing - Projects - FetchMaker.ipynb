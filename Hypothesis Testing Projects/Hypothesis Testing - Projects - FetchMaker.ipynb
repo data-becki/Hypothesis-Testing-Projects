{
 "cells": [
  {
   "cell_type": "code",
   "execution_count": 25,
   "id": "5f1e5e6d",
   "metadata": {},
   "outputs": [],
   "source": [
    "import pandas as pd\n",
    "import numpy as np\n",
    "import seaborn as sns\n",
    "import matplotlib.pyplot as plt"
   ]
  },
  {
   "cell_type": "markdown",
   "id": "624966f8",
   "metadata": {},
   "source": [
    "## FetchMaker\n",
    "\n",
    "Congratulations! You’ve just started working at the hottest new tech startup, FetchMaker. FetchMaker’s mission is to match up prospective dog owners with their perfect pet. FetchMaker has been collecting data on their adoptable dogs, and it’s your job to analyze some of that data."
   ]
  },
  {
   "cell_type": "markdown",
   "id": "24dc8c4a",
   "metadata": {},
   "source": [
    "## Data to the Rescue\n",
    "1. FetchMaker has provided us with data for a sample of dogs from their app, including the following attributes:\n",
    "\n",
    "-    `weight`, an integer representing how heavy a dog is in pounds\n",
    "-    `tail_length`, a float representing tail length in inches\n",
    "-    `age`, in years\n",
    "-    `color`, a String such as `\"brown\"` or `\"grey\"`\n",
    "-    `is_rescue`, a boolean `0` or `1`\n",
    "\n",
    "The data has been saved for you as a pandas DataFrame named dogs. Use the .head() method to inspect the first five rows of the dataset.\n"
   ]
  },
  {
   "cell_type": "code",
   "execution_count": 11,
   "id": "8dd8afd1",
   "metadata": {},
   "outputs": [],
   "source": [
    "# Import data\n",
    "dogs = pd.read_csv('dog_data.csv')\n",
    "\n",
    "# Subset to just whippets, terriers, and pitbulls\n",
    "dogs_wtp = dogs[dogs.breed.isin(['whippet', 'terrier', 'pitbull'])]\n",
    "\n",
    "# Subset to just poodles and shihtzus\n",
    "dogs_ps = dogs[dogs.breed.isin(['poodle', 'shihtzu'])]"
   ]
  },
  {
   "cell_type": "code",
   "execution_count": 4,
   "id": "a3f7e466",
   "metadata": {
    "scrolled": true
   },
   "outputs": [
    {
     "data": {
      "text/html": [
       "<div>\n",
       "<style scoped>\n",
       "    .dataframe tbody tr th:only-of-type {\n",
       "        vertical-align: middle;\n",
       "    }\n",
       "\n",
       "    .dataframe tbody tr th {\n",
       "        vertical-align: top;\n",
       "    }\n",
       "\n",
       "    .dataframe thead th {\n",
       "        text-align: right;\n",
       "    }\n",
       "</style>\n",
       "<table border=\"1\" class=\"dataframe\">\n",
       "  <thead>\n",
       "    <tr style=\"text-align: right;\">\n",
       "      <th></th>\n",
       "      <th>is_rescue</th>\n",
       "      <th>weight</th>\n",
       "      <th>tail_length</th>\n",
       "      <th>age</th>\n",
       "      <th>color</th>\n",
       "      <th>likes_children</th>\n",
       "      <th>is_hypoallergenic</th>\n",
       "      <th>name</th>\n",
       "      <th>breed</th>\n",
       "    </tr>\n",
       "  </thead>\n",
       "  <tbody>\n",
       "    <tr>\n",
       "      <th>0</th>\n",
       "      <td>0</td>\n",
       "      <td>6</td>\n",
       "      <td>2.25</td>\n",
       "      <td>2</td>\n",
       "      <td>black</td>\n",
       "      <td>1</td>\n",
       "      <td>0</td>\n",
       "      <td>Huey</td>\n",
       "      <td>chihuahua</td>\n",
       "    </tr>\n",
       "    <tr>\n",
       "      <th>1</th>\n",
       "      <td>0</td>\n",
       "      <td>4</td>\n",
       "      <td>5.36</td>\n",
       "      <td>4</td>\n",
       "      <td>black</td>\n",
       "      <td>0</td>\n",
       "      <td>0</td>\n",
       "      <td>Cherish</td>\n",
       "      <td>chihuahua</td>\n",
       "    </tr>\n",
       "    <tr>\n",
       "      <th>2</th>\n",
       "      <td>0</td>\n",
       "      <td>7</td>\n",
       "      <td>3.63</td>\n",
       "      <td>3</td>\n",
       "      <td>black</td>\n",
       "      <td>0</td>\n",
       "      <td>1</td>\n",
       "      <td>Becka</td>\n",
       "      <td>chihuahua</td>\n",
       "    </tr>\n",
       "    <tr>\n",
       "      <th>3</th>\n",
       "      <td>0</td>\n",
       "      <td>5</td>\n",
       "      <td>0.19</td>\n",
       "      <td>2</td>\n",
       "      <td>black</td>\n",
       "      <td>0</td>\n",
       "      <td>0</td>\n",
       "      <td>Addie</td>\n",
       "      <td>chihuahua</td>\n",
       "    </tr>\n",
       "    <tr>\n",
       "      <th>4</th>\n",
       "      <td>0</td>\n",
       "      <td>5</td>\n",
       "      <td>0.37</td>\n",
       "      <td>1</td>\n",
       "      <td>black</td>\n",
       "      <td>1</td>\n",
       "      <td>1</td>\n",
       "      <td>Beverlee</td>\n",
       "      <td>chihuahua</td>\n",
       "    </tr>\n",
       "  </tbody>\n",
       "</table>\n",
       "</div>"
      ],
      "text/plain": [
       "   is_rescue  weight  tail_length  age  color  likes_children  \\\n",
       "0          0       6         2.25    2  black               1   \n",
       "1          0       4         5.36    4  black               0   \n",
       "2          0       7         3.63    3  black               0   \n",
       "3          0       5         0.19    2  black               0   \n",
       "4          0       5         0.37    1  black               1   \n",
       "\n",
       "   is_hypoallergenic      name      breed  \n",
       "0                  0      Huey  chihuahua  \n",
       "1                  0   Cherish  chihuahua  \n",
       "2                  1     Becka  chihuahua  \n",
       "3                  0     Addie  chihuahua  \n",
       "4                  1  Beverlee  chihuahua  "
      ]
     },
     "execution_count": 4,
     "metadata": {},
     "output_type": "execute_result"
    }
   ],
   "source": [
    "dogs.head()"
   ]
  },
  {
   "cell_type": "markdown",
   "id": "d247517e",
   "metadata": {},
   "source": [
    "2. FetchMaker estimates (based on historical data for all dogs) that 8% of dogs in their system are rescues.\n",
    "\n",
    "They would like to know if whippets are significantly more or less likely than other dogs to be a rescue.\n",
    "\n",
    "Store the `is_rescue` values for `'whippet'`s in a variable called `whippet_rescue`.\n"
   ]
  },
  {
   "cell_type": "code",
   "execution_count": 6,
   "id": "541babd5",
   "metadata": {},
   "outputs": [],
   "source": [
    "whippet_rescue = dogs.is_rescue[dogs.breed == 'whippet']"
   ]
  },
  {
   "cell_type": "markdown",
   "id": "49e4c87e",
   "metadata": {},
   "source": [
    "3. How many whippets are rescues (remember that the value of is_rescue is 1 for rescues and 0 otherwise)? Save this number as num_whippet_rescues and print it out."
   ]
  },
  {
   "cell_type": "code",
   "execution_count": 7,
   "id": "3aa59182",
   "metadata": {},
   "outputs": [
    {
     "data": {
      "text/plain": [
       "6"
      ]
     },
     "execution_count": 7,
     "metadata": {},
     "output_type": "execute_result"
    }
   ],
   "source": [
    "num_whippet_rescues = np.sum(whippet_rescue)\n",
    "num_whippet_rescues"
   ]
  },
  {
   "cell_type": "markdown",
   "id": "5b67ea69",
   "metadata": {},
   "source": [
    "4. How many whippets are in this sample of data in total? Save this number as num_whippets and print it out."
   ]
  },
  {
   "cell_type": "code",
   "execution_count": 8,
   "id": "58849843",
   "metadata": {},
   "outputs": [
    {
     "name": "stdout",
     "output_type": "stream",
     "text": [
      "100\n"
     ]
    }
   ],
   "source": [
    "num_whippets = len(whippet_rescue)\n",
    "print(num_whippets)"
   ]
  },
  {
   "cell_type": "markdown",
   "id": "80f8a116",
   "metadata": {},
   "source": [
    "5. Use a hypothesis test to test the following null and alternative hypotheses:\n",
    "\n",
    "-    Null: 8% of whippets are rescues\n",
    "-    Alternative: more or less than 8% of whippets are rescues\n",
    "\n",
    "Save the p-value from this test as pval and print it out. Using a significance threshold of 0.05, Is the proportion of whippets who are rescues significantly different from 8%?\n"
   ]
  },
  {
   "cell_type": "markdown",
   "id": "5ea35846",
   "metadata": {},
   "source": [
    "For this test, we are focused on a single binary categorical variable, which indicates whether or not each whippet is a rescue. We want to compare the number of rescues in our sample to a hypothetical population-level proportion of 0.08. Therefore, we should use a binomial test.\n",
    "\n",
    "First, we need to import the `binom_test()` function:\n",
    "\n",
    "`from scipy.stats import binom_test`\n",
    "\n",
    "Then, we need to use the function to run our test (fill in the code below):\n",
    "\n",
    "`pval = binom_test(x = ___, n = ___, p = ___)`\n",
    "\n",
    "In general, `x` is the number of ‘successes’, `n` is the sample size, and `p` is the null probability of ‘success’.\n"
   ]
  },
  {
   "cell_type": "code",
   "execution_count": 10,
   "id": "907e848e",
   "metadata": {},
   "outputs": [
    {
     "name": "stdout",
     "output_type": "stream",
     "text": [
      "6.2885044499588494e-58 indicates a significant difference.\n"
     ]
    }
   ],
   "source": [
    "from scipy.stats import binom_test\n",
    " \n",
    "pval = binom_test(num_whippet_rescues, num_whippets, 0.8)\n",
    "if pval < 0.05:\n",
    "    print(str(pval) + ' indicates a significant difference.')\n",
    "else:\n",
    "    print(str(pval) + ' indicates no significant difference.')"
   ]
  },
  {
   "cell_type": "markdown",
   "id": "800704c9",
   "metadata": {},
   "source": [
    "## Mid-Sized Dog Weights\n",
    "6. Three of FetchMaker’s most popular mid-sized dog breeds are 'whippet's, 'terrier's, and 'pitbull's. Is there a significant difference in the average weights of these three dog breeds?\n",
    "\n",
    "To start answering this question, save the weights of each of these breeds in three separate series named wt_whippets, wt_terriers, and wt_pitbulls, respectively.\n"
   ]
  },
  {
   "cell_type": "code",
   "execution_count": 12,
   "id": "dd249dea",
   "metadata": {},
   "outputs": [
    {
     "data": {
      "text/html": [
       "<div>\n",
       "<style scoped>\n",
       "    .dataframe tbody tr th:only-of-type {\n",
       "        vertical-align: middle;\n",
       "    }\n",
       "\n",
       "    .dataframe tbody tr th {\n",
       "        vertical-align: top;\n",
       "    }\n",
       "\n",
       "    .dataframe thead th {\n",
       "        text-align: right;\n",
       "    }\n",
       "</style>\n",
       "<table border=\"1\" class=\"dataframe\">\n",
       "  <thead>\n",
       "    <tr style=\"text-align: right;\">\n",
       "      <th></th>\n",
       "      <th>is_rescue</th>\n",
       "      <th>weight</th>\n",
       "      <th>tail_length</th>\n",
       "      <th>age</th>\n",
       "      <th>color</th>\n",
       "      <th>likes_children</th>\n",
       "      <th>is_hypoallergenic</th>\n",
       "      <th>name</th>\n",
       "      <th>breed</th>\n",
       "    </tr>\n",
       "  </thead>\n",
       "  <tbody>\n",
       "    <tr>\n",
       "      <th>200</th>\n",
       "      <td>0</td>\n",
       "      <td>71</td>\n",
       "      <td>5.74</td>\n",
       "      <td>4</td>\n",
       "      <td>black</td>\n",
       "      <td>0</td>\n",
       "      <td>0</td>\n",
       "      <td>Charlot</td>\n",
       "      <td>pitbull</td>\n",
       "    </tr>\n",
       "    <tr>\n",
       "      <th>201</th>\n",
       "      <td>0</td>\n",
       "      <td>26</td>\n",
       "      <td>11.56</td>\n",
       "      <td>3</td>\n",
       "      <td>black</td>\n",
       "      <td>0</td>\n",
       "      <td>0</td>\n",
       "      <td>Jud</td>\n",
       "      <td>pitbull</td>\n",
       "    </tr>\n",
       "    <tr>\n",
       "      <th>202</th>\n",
       "      <td>0</td>\n",
       "      <td>56</td>\n",
       "      <td>10.76</td>\n",
       "      <td>4</td>\n",
       "      <td>black</td>\n",
       "      <td>0</td>\n",
       "      <td>0</td>\n",
       "      <td>Rosamund</td>\n",
       "      <td>pitbull</td>\n",
       "    </tr>\n",
       "    <tr>\n",
       "      <th>203</th>\n",
       "      <td>0</td>\n",
       "      <td>33</td>\n",
       "      <td>6.32</td>\n",
       "      <td>4</td>\n",
       "      <td>black</td>\n",
       "      <td>1</td>\n",
       "      <td>0</td>\n",
       "      <td>Ruthann</td>\n",
       "      <td>pitbull</td>\n",
       "    </tr>\n",
       "    <tr>\n",
       "      <th>204</th>\n",
       "      <td>0</td>\n",
       "      <td>54</td>\n",
       "      <td>17.18</td>\n",
       "      <td>4</td>\n",
       "      <td>black</td>\n",
       "      <td>1</td>\n",
       "      <td>1</td>\n",
       "      <td>Bryon</td>\n",
       "      <td>pitbull</td>\n",
       "    </tr>\n",
       "  </tbody>\n",
       "</table>\n",
       "</div>"
      ],
      "text/plain": [
       "     is_rescue  weight  tail_length  age  color  likes_children  \\\n",
       "200          0      71         5.74    4  black               0   \n",
       "201          0      26        11.56    3  black               0   \n",
       "202          0      56        10.76    4  black               0   \n",
       "203          0      33         6.32    4  black               1   \n",
       "204          0      54        17.18    4  black               1   \n",
       "\n",
       "     is_hypoallergenic      name    breed  \n",
       "200                  0   Charlot  pitbull  \n",
       "201                  0       Jud  pitbull  \n",
       "202                  0  Rosamund  pitbull  \n",
       "203                  0   Ruthann  pitbull  \n",
       "204                  1     Bryon  pitbull  "
      ]
     },
     "execution_count": 12,
     "metadata": {},
     "output_type": "execute_result"
    }
   ],
   "source": [
    "dogs_wtp.head()"
   ]
  },
  {
   "cell_type": "code",
   "execution_count": 13,
   "id": "0fe5f168",
   "metadata": {},
   "outputs": [],
   "source": [
    "wt_whippets = dogs_wtp.weight[dogs_wtp.breed == 'whippet']\n",
    "wt_terriers = dogs_wtp.weight[dogs_wtp.breed == 'terrier']\n",
    "wt_pitbulls = dogs_wtp.weight[dogs_wtp.breed == 'pitbull']"
   ]
  },
  {
   "cell_type": "markdown",
   "id": "9a705579",
   "metadata": {},
   "source": [
    "7. Run a single hypothesis test to address the following null and alternative hypotheses:\n",
    "\n",
    "-    Null: whippets, terriers, and pitbulls all weigh the same amount on average\n",
    "-    Alternative: whippets, terriers, and pitbulls do not all weigh the same amount on average (at least one pair of breeds has differing average weights)\n",
    "\n",
    "Save the resulting p-value as pval and print it out. Using a significance threshold of 0.05, is there at least one pair of dog breeds that have significantly different average weights?"
   ]
  },
  {
   "cell_type": "code",
   "execution_count": 17,
   "id": "36b2e867",
   "metadata": {},
   "outputs": [
    {
     "name": "stdout",
     "output_type": "stream",
     "text": [
      "3.276415588274815e-17 indicates at least on pair have a significant difference.\n"
     ]
    }
   ],
   "source": [
    "from scipy.stats import f_oneway\n",
    "\n",
    "fstat, pval = f_oneway(wt_whippets, wt_terriers, wt_pitbulls)\n",
    "if pval < 0.05:\n",
    "    print(str(pval) + ' indicates at least on pair have a significant difference.')\n",
    "else:\n",
    "    print(str(pval) + ' indicates no significant difference between any pairs.')"
   ]
  },
  {
   "cell_type": "markdown",
   "id": "b3f24b6b",
   "metadata": {},
   "source": [
    "8. If you completed the previous step correctly, you should have concluded that at least one pair of dog breeds have significantly different average weights.\n",
    "\n",
    "Run another hypothesis test to determine which of those breeds (whippets, terriers, and pitbulls) weigh different amounts on average. Use an overall type I error rate of 0.05 for all three comparisons. Note that we’ve already provided you with code in script.py to subset the data to just these breeds and have saved this subset as dogs_wtp using the following code:\n",
    "\n",
    "`dogs_wtp = dogs[dogs.breed.isin(['whippet', 'terrier', 'pitbull'])]`\n",
    "\n",
    "This should make it easier for you to run the test you need!\n",
    "\n",
    "Print out the results. Which pairs of dog breeds weigh different amounts?"
   ]
  },
  {
   "cell_type": "code",
   "execution_count": 18,
   "id": "1a2f667b",
   "metadata": {},
   "outputs": [
    {
     "name": "stdout",
     "output_type": "stream",
     "text": [
      " Multiple Comparison of Means - Tukey HSD, FWER=0.05 \n",
      "=====================================================\n",
      " group1  group2 meandiff p-adj   lower  upper  reject\n",
      "-----------------------------------------------------\n",
      "pitbull terrier   -13.24  0.001 -16.728 -9.752   True\n",
      "pitbull whippet    -3.34 0.0639  -6.828  0.148  False\n",
      "terrier whippet      9.9  0.001   6.412 13.388   True\n",
      "-----------------------------------------------------\n"
     ]
    }
   ],
   "source": [
    "from statsmodels.stats.multicomp import pairwise_tukeyhsd\n",
    "\n",
    "tukey_results = pairwise_tukeyhsd(dogs_wtp.weight, dogs_wtp.breed, 0.05)\n",
    "print(tukey_results)"
   ]
  },
  {
   "cell_type": "markdown",
   "id": "35922879",
   "metadata": {},
   "source": [
    "## Poodle and Shihtzu Colors\n",
    "9. FetchMaker wants to know if `poodle`s and `shihtzu`s come in different colors. Note that we’ve already provided you with code in script.py to subset the data to just these breeds and have saved this subset as `dogs_ps` using the following code:\n",
    "\n",
    "`dogs_ps = dogs[dogs.breed.isin(['poodle', 'shihtzu'])]`\n",
    "\n",
    "This should make it easier for you to investigate this question!\n",
    "\n",
    "To start, use the subsetted data to create a contingency table of dog colors by breed (poodle vs. shihtzu). Save the table as Xtab and print it out."
   ]
  },
  {
   "cell_type": "code",
   "execution_count": 19,
   "id": "269fd050",
   "metadata": {},
   "outputs": [
    {
     "data": {
      "text/html": [
       "<div>\n",
       "<style scoped>\n",
       "    .dataframe tbody tr th:only-of-type {\n",
       "        vertical-align: middle;\n",
       "    }\n",
       "\n",
       "    .dataframe tbody tr th {\n",
       "        vertical-align: top;\n",
       "    }\n",
       "\n",
       "    .dataframe thead th {\n",
       "        text-align: right;\n",
       "    }\n",
       "</style>\n",
       "<table border=\"1\" class=\"dataframe\">\n",
       "  <thead>\n",
       "    <tr style=\"text-align: right;\">\n",
       "      <th></th>\n",
       "      <th>is_rescue</th>\n",
       "      <th>weight</th>\n",
       "      <th>tail_length</th>\n",
       "      <th>age</th>\n",
       "      <th>color</th>\n",
       "      <th>likes_children</th>\n",
       "      <th>is_hypoallergenic</th>\n",
       "      <th>name</th>\n",
       "      <th>breed</th>\n",
       "    </tr>\n",
       "  </thead>\n",
       "  <tbody>\n",
       "    <tr>\n",
       "      <th>300</th>\n",
       "      <td>0</td>\n",
       "      <td>58</td>\n",
       "      <td>8.05</td>\n",
       "      <td>1</td>\n",
       "      <td>black</td>\n",
       "      <td>1</td>\n",
       "      <td>0</td>\n",
       "      <td>Moise</td>\n",
       "      <td>poodle</td>\n",
       "    </tr>\n",
       "    <tr>\n",
       "      <th>301</th>\n",
       "      <td>0</td>\n",
       "      <td>56</td>\n",
       "      <td>9.44</td>\n",
       "      <td>4</td>\n",
       "      <td>black</td>\n",
       "      <td>1</td>\n",
       "      <td>0</td>\n",
       "      <td>Boote</td>\n",
       "      <td>poodle</td>\n",
       "    </tr>\n",
       "    <tr>\n",
       "      <th>302</th>\n",
       "      <td>1</td>\n",
       "      <td>59</td>\n",
       "      <td>4.04</td>\n",
       "      <td>4</td>\n",
       "      <td>black</td>\n",
       "      <td>1</td>\n",
       "      <td>0</td>\n",
       "      <td>Beatrix</td>\n",
       "      <td>poodle</td>\n",
       "    </tr>\n",
       "    <tr>\n",
       "      <th>303</th>\n",
       "      <td>0</td>\n",
       "      <td>70</td>\n",
       "      <td>12.37</td>\n",
       "      <td>1</td>\n",
       "      <td>black</td>\n",
       "      <td>1</td>\n",
       "      <td>0</td>\n",
       "      <td>Rabbi</td>\n",
       "      <td>poodle</td>\n",
       "    </tr>\n",
       "    <tr>\n",
       "      <th>304</th>\n",
       "      <td>0</td>\n",
       "      <td>52</td>\n",
       "      <td>11.42</td>\n",
       "      <td>2</td>\n",
       "      <td>black</td>\n",
       "      <td>0</td>\n",
       "      <td>0</td>\n",
       "      <td>Tallou</td>\n",
       "      <td>poodle</td>\n",
       "    </tr>\n",
       "  </tbody>\n",
       "</table>\n",
       "</div>"
      ],
      "text/plain": [
       "     is_rescue  weight  tail_length  age  color  likes_children  \\\n",
       "300          0      58         8.05    1  black               1   \n",
       "301          0      56         9.44    4  black               1   \n",
       "302          1      59         4.04    4  black               1   \n",
       "303          0      70        12.37    1  black               1   \n",
       "304          0      52        11.42    2  black               0   \n",
       "\n",
       "     is_hypoallergenic     name   breed  \n",
       "300                  0    Moise  poodle  \n",
       "301                  0    Boote  poodle  \n",
       "302                  0  Beatrix  poodle  \n",
       "303                  0    Rabbi  poodle  \n",
       "304                  0   Tallou  poodle  "
      ]
     },
     "execution_count": 19,
     "metadata": {},
     "output_type": "execute_result"
    }
   ],
   "source": [
    "dogs_ps.head()"
   ]
  },
  {
   "cell_type": "code",
   "execution_count": 20,
   "id": "7f89a8bf",
   "metadata": {},
   "outputs": [
    {
     "name": "stdout",
     "output_type": "stream",
     "text": [
      "color    black  brown  gold  grey  white\n",
      "breed                                   \n",
      "poodle      17     13     8    52     10\n",
      "shihtzu     10     36     6    41      7\n"
     ]
    }
   ],
   "source": [
    "Xtab = pd.crosstab(dogs_ps.breed, dogs_ps.color)\n",
    "print(Xtab)"
   ]
  },
  {
   "cell_type": "markdown",
   "id": "33ad64c9",
   "metadata": {},
   "source": [
    "10. Run a hypothesis test for the following null and alternative hypotheses:\n",
    "\n",
    "-    Null: There is an association between breed (poodle vs. shihtzu) and color.\n",
    "-    Alternative: There is not an association between breed (poodle vs. shihtzu) and color.\n",
    "\n",
    "Save the p-value as pval and print it out. Do poodles and shihtzus come in significantly different color combinations? Use a significance threshold of 0.05.\n"
   ]
  },
  {
   "cell_type": "code",
   "execution_count": 23,
   "id": "08de61ec",
   "metadata": {},
   "outputs": [
    {
     "name": "stdout",
     "output_type": "stream",
     "text": [
      "0.005302408293244597 indicates there is an association.\n"
     ]
    }
   ],
   "source": [
    "from scipy.stats import chi2_contingency\n",
    "chi2, pval, dof, expected = chi2_contingency(Xtab)\n",
    "if pval < 0.05:\n",
    "    print(str(pval) + ' indicates there is an association.')\n",
    "else:\n",
    "    print(str(pval) + ' indicates there is no association.')"
   ]
  },
  {
   "cell_type": "markdown",
   "id": "4a29decb",
   "metadata": {},
   "source": [
    "## Good learner! Have a treat!\n",
    "11. Great job!\n",
    "\n",
    "Feel free to play around with the FetchMaker data some more and run some hypothesis tests of your own.\n",
    "\n",
    "The breeds you can explore are \"poodle\", \"rottweiler\", \"whippet\", \"greyhound\", \"terrier\", \"chihuahua\", \"shihtzu\", and \"pitbull\".\n",
    "\n",
    "Extra challenge: Remind yourself of your data visualization skills and your ability to describe the central tendency of the data. For example, a boxplot visualization can add a lot to your understanding of an ANOVA result.\n"
   ]
  },
  {
   "cell_type": "code",
   "execution_count": 34,
   "id": "3ca29899",
   "metadata": {},
   "outputs": [
    {
     "data": {
      "image/png": "[encoded data removed]",
      "text/plain": [
       "<Figure size 432x288 with 1 Axes>"
      ]
     },
     "metadata": {
      "needs_background": "light"
     },
     "output_type": "display_data"
    }
   ],
   "source": [
    "# create plot\n",
    "sns.boxplot(data=dogs, x='breed', y='weight')\n",
    "plt.show()"
   ]
  },
  {
   "cell_type": "code",
   "execution_count": 36,
   "id": "79889ddd",
   "metadata": {},
   "outputs": [
    {
     "data": {
      "image/png": "[encoded data removed]",
      "text/plain": [
       "<Figure size 432x288 with 1 Axes>"
      ]
     },
     "metadata": {
      "needs_background": "light"
     },
     "output_type": "display_data"
    }
   ],
   "source": [
    "plt.hist(dogs.color)\n",
    "plt.show()"
   ]
  }
 ],
 "metadata": {
  "kernelspec": {
   "display_name": "Python 3 (ipykernel)",
   "language": "python",
   "name": "python3"
  },
  "language_info": {
   "codemirror_mode": {
    "name": "ipython",
    "version": 3
   },
   "file_extension": ".py",
   "mimetype": "text/x-python",
   "name": "python",
   "nbconvert_exporter": "python",
   "pygments_lexer": "ipython3",
   "version": "3.9.7"
  }
 },
 "nbformat": 4,
 "nbformat_minor": 5
}
