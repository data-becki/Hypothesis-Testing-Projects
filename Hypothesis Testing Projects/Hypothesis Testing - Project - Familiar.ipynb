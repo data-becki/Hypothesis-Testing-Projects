{
 "cells": [
  {
   "cell_type": "code",
   "execution_count": 1,
   "id": "be55e73c",
   "metadata": {},
   "outputs": [],
   "source": [
    "import pandas as pd\n",
    "import numpy as np"
   ]
  },
  {
   "cell_type": "markdown",
   "id": "a5364d0b",
   "metadata": {},
   "source": [
    "# Familiar: A Study In Data Analysis"
   ]
  },
  {
   "cell_type": "markdown",
   "id": "53a559b0",
   "metadata": {},
   "source": [
    "Welcome to *Familiar*, a startup in the new market of blood transfusion! You’ve joined the team because you appreciate the flexible hours and extremely intelligent team, but the overeager doorman welcoming you into the office is a nice way to start your workday (well, work-evening).\n",
    "\n",
    "*Familiar* has fallen into some tough times lately, so you’re hoping to help them make some insights about their product and help move the needle (so to speak)."
   ]
  },
  {
   "cell_type": "markdown",
   "id": "6230fbf0",
   "metadata": {},
   "source": [
    "1. The Familiar team has provided us with some data on lifespans for subscribers to two different packages, the Vein Pack and the Artery Pack! This data has been loaded for you as a dataframe named `lifespans`. Use the `.head()` method to print out the first five rows and take a look!"
   ]
  },
  {
   "cell_type": "code",
   "execution_count": 2,
   "id": "271bec16",
   "metadata": {},
   "outputs": [],
   "source": [
    "# Load datasets\n",
    "lifespans = pd.read_csv('familiar_lifespan.csv')\n",
    "iron = pd.read_csv('familiar_iron.csv')"
   ]
  },
  {
   "cell_type": "code",
   "execution_count": 3,
   "id": "e4e92b47",
   "metadata": {},
   "outputs": [
    {
     "data": {
      "text/html": [
       "<div>\n",
       "<style scoped>\n",
       "    .dataframe tbody tr th:only-of-type {\n",
       "        vertical-align: middle;\n",
       "    }\n",
       "\n",
       "    .dataframe tbody tr th {\n",
       "        vertical-align: top;\n",
       "    }\n",
       "\n",
       "    .dataframe thead th {\n",
       "        text-align: right;\n",
       "    }\n",
       "</style>\n",
       "<table border=\"1\" class=\"dataframe\">\n",
       "  <thead>\n",
       "    <tr style=\"text-align: right;\">\n",
       "      <th></th>\n",
       "      <th>pack</th>\n",
       "      <th>lifespan</th>\n",
       "    </tr>\n",
       "  </thead>\n",
       "  <tbody>\n",
       "    <tr>\n",
       "      <th>0</th>\n",
       "      <td>vein</td>\n",
       "      <td>76.255090</td>\n",
       "    </tr>\n",
       "    <tr>\n",
       "      <th>1</th>\n",
       "      <td>artery</td>\n",
       "      <td>76.404504</td>\n",
       "    </tr>\n",
       "    <tr>\n",
       "      <th>2</th>\n",
       "      <td>artery</td>\n",
       "      <td>75.952442</td>\n",
       "    </tr>\n",
       "    <tr>\n",
       "      <th>3</th>\n",
       "      <td>artery</td>\n",
       "      <td>76.923082</td>\n",
       "    </tr>\n",
       "    <tr>\n",
       "      <th>4</th>\n",
       "      <td>artery</td>\n",
       "      <td>73.771212</td>\n",
       "    </tr>\n",
       "  </tbody>\n",
       "</table>\n",
       "</div>"
      ],
      "text/plain": [
       "     pack   lifespan\n",
       "0    vein  76.255090\n",
       "1  artery  76.404504\n",
       "2  artery  75.952442\n",
       "3  artery  76.923082\n",
       "4  artery  73.771212"
      ]
     },
     "execution_count": 3,
     "metadata": {},
     "output_type": "execute_result"
    }
   ],
   "source": [
    "lifespans.head()"
   ]
  },
  {
   "cell_type": "markdown",
   "id": "bdf27362",
   "metadata": {},
   "source": [
    "2. The first thing we want to know is whether Familiar’s most basic package, the Vein Pack, actually has a significant impact on the subscribers. It would be a marketing goldmine if we can show that subscribers to the Vein Pack live longer than other people.\n",
    "\n",
    "    Extract the life spans of subscribers to the `'vein'` pack and save the data into a variable called `vein_pack_lifespans`."
   ]
  },
  {
   "cell_type": "code",
   "execution_count": 4,
   "id": "4a3b527d",
   "metadata": {},
   "outputs": [
    {
     "data": {
      "text/plain": [
       "0    76.255090\n",
       "7    74.502021\n",
       "8    76.937674\n",
       "Name: lifespan, dtype: float64"
      ]
     },
     "execution_count": 4,
     "metadata": {},
     "output_type": "execute_result"
    }
   ],
   "source": [
    "vein_pack_lifespans = lifespans.lifespan[lifespans.pack == 'vein']\n",
    "vein_pack_lifespans[0:3]"
   ]
  },
  {
   "cell_type": "markdown",
   "id": "8ae5bac4",
   "metadata": {},
   "source": [
    "3. Next, use `np.mean()` to calculate the average lifespan for Vein Pack subscribers and print the result. Is it longer than 73 years? *Yes.*"
   ]
  },
  {
   "cell_type": "code",
   "execution_count": 5,
   "id": "0144fce6",
   "metadata": {},
   "outputs": [
    {
     "name": "stdout",
     "output_type": "stream",
     "text": [
      "The average lifespan for Vein Pack subscribers is 76.2.\n"
     ]
    }
   ],
   "source": [
    "vein_pack_mean = np.mean(vein_pack_lifespans)\n",
    "print('The average lifespan for Vein Pack subscribers is ' + str(round(vein_pack_mean,1)) + '.')"
   ]
  },
  {
   "cell_type": "markdown",
   "id": "1027f631",
   "metadata": {},
   "source": [
    "4. We’d like to find out if the average lifespan of a Vein Pack subscriber is significantly different from the average life expectancy of` 73` years.\n",
    "\n",
    "   Import the statistical test from `scipy.stats` that we would use to test the following null and alternative hypotheses:\n",
    "\n",
    "    -    Null: The average lifespan of a Vein Pack subscriber is 73 years.\n",
    "    -    Alternative: The average lifespan of a Vein Pack subscriber is NOT 73 years."
   ]
  },
  {
   "cell_type": "code",
   "execution_count": 6,
   "id": "5b971f17",
   "metadata": {},
   "outputs": [],
   "source": [
    "from scipy.stats import ttest_1samp"
   ]
  },
  {
   "cell_type": "markdown",
   "id": "eefb8039",
   "metadata": {},
   "source": [
    "5. Now that you’ve imported the function you need, run the significance test and print out the p-value! Is the average lifespan of a Vein Pack subscriber significantly longer than 73 years? Use a significance threshold of 0.05."
   ]
  },
  {
   "cell_type": "code",
   "execution_count": 7,
   "id": "73127acb",
   "metadata": {},
   "outputs": [
    {
     "name": "stdout",
     "output_type": "stream",
     "text": [
      "5.972157921433211e-07 indicates life span is significantly longer than 73 years.\n"
     ]
    }
   ],
   "source": [
    "tstat, pval = ttest_1samp(vein_pack_lifespans, 73)\n",
    "\n",
    "if pval < 0.05:\n",
    "    print(str(pval) + ' indicates life span is significantly longer than 73 years.')\n",
    "else:\n",
    "    print(str(pval) + ' indicates life span is not significantly longer than 73 years.')"
   ]
  },
  {
   "cell_type": "markdown",
   "id": "0e79e8fb",
   "metadata": {},
   "source": [
    "## Upselling Familiar: Pumping Life Into The Company\n",
    "6.  In order to differentiate Familiar’s different product lines, we’d like to compare this lifespan data between our different packages. Our next step up from the Vein Pack is the Artery Pack.\n",
    "\n",
    "    Let’s get the lifespans of Artery Pack subscribers. Using the same `lifespans` dataset, extract the lifespans of subscribers to the Artery Pack and save them as `artery_pack_lifespans`."
   ]
  },
  {
   "cell_type": "code",
   "execution_count": 8,
   "id": "9cb0eefe",
   "metadata": {},
   "outputs": [
    {
     "data": {
      "text/plain": [
       "1    76.404504\n",
       "2    75.952442\n",
       "3    76.923082\n",
       "Name: lifespan, dtype: float64"
      ]
     },
     "execution_count": 8,
     "metadata": {},
     "output_type": "execute_result"
    }
   ],
   "source": [
    "artery_pack_lifespans = lifespans.lifespan[lifespans.pack == 'artery']\n",
    "artery_pack_lifespans[0:3]"
   ]
  },
  {
   "cell_type": "markdown",
   "id": "bdd3daf6",
   "metadata": {},
   "source": [
    "7. Use `np.mean()` to calculate the average lifespan for Artery Pack subscribers and print the result. Is it longer than for the Vein Pack? *No.*"
   ]
  },
  {
   "cell_type": "code",
   "execution_count": 9,
   "id": "fc2c14d1",
   "metadata": {},
   "outputs": [
    {
     "name": "stdout",
     "output_type": "stream",
     "text": [
      "The average lifespan for Artery Pack subscribers is 74.9.\n"
     ]
    }
   ],
   "source": [
    "artery_pack_mean = np.mean(artery_pack_lifespans)\n",
    "print('The average lifespan for Artery Pack subscribers is ' + str(round(artery_pack_mean,1)) + '.')"
   ]
  },
  {
   "cell_type": "markdown",
   "id": "221ee494",
   "metadata": {},
   "source": [
    "8. We’d like to find out if the average lifespan of a Vein Pack subscriber is significantly different from the average life expectancy for the Artery Pack.\n",
    "\n",
    "   Import the statistical test from `scipy.stats` that we would use to test the following null and alternative hypotheses:\n",
    "\n",
    "    -    Null: The average lifespan of a Vein Pack subscriber is equal to the average lifespan of an Artery Pack subscriber.\n",
    "    -    Alternative: The average lifespan of a Vein Pack subscriber is NOT equal to the average lifespan of an Artery Pack subscriber."
   ]
  },
  {
   "cell_type": "code",
   "execution_count": 10,
   "id": "418221a5",
   "metadata": {},
   "outputs": [],
   "source": [
    "from scipy.stats import ttest_ind"
   ]
  },
  {
   "cell_type": "markdown",
   "id": "27ca02eb",
   "metadata": {},
   "source": [
    "9. Now that you’ve imported the function you need, run the significance test and print out the p-value! Is the average lifespan of a Vein Pack subscriber significantly different from the average lifespan of an Artery Pack subscriber? Use a significance threshold of 0.05."
   ]
  },
  {
   "cell_type": "code",
   "execution_count": 11,
   "id": "4b88a3bc",
   "metadata": {},
   "outputs": [
    {
     "name": "stdout",
     "output_type": "stream",
     "text": [
      "0.05588883079070819 indicates life spans are not significantly different.\n"
     ]
    }
   ],
   "source": [
    "tstat, pval = ttest_ind(vein_pack_lifespans, artery_pack_lifespans)\n",
    "if pval < 0.05:\n",
    "    print(str(pval) + ' indicates life spans are significantly different.')\n",
    "else:\n",
    "    print(str(pval) + ' indicates life spans are not significantly different.')"
   ]
  },
  {
   "cell_type": "markdown",
   "id": "a9f33086",
   "metadata": {},
   "source": [
    "## Side Effects: A Familiar Problem"
   ]
  },
  {
   "cell_type": "markdown",
   "id": "e60bac41",
   "metadata": {},
   "source": [
    "10. The Familiar team has provided us with another dataset containing survey data about iron counts for our subscribers. This data has been pre-processed to categorize iron counts as “low”, “normal”, and “high” for each subscriber. Familiar wants to be able to advise potential subscribers about possible side effects of these packs and whether they differ for the Vein vs. the Artery pack.\n",
    "\n",
    "    The data has been loaded for you as a dataframe named `iron`. Use the `.head()` method to print out the first five rows and take a look!"
   ]
  },
  {
   "cell_type": "code",
   "execution_count": 12,
   "id": "7f9e83ef",
   "metadata": {},
   "outputs": [
    {
     "data": {
      "text/html": [
       "<div>\n",
       "<style scoped>\n",
       "    .dataframe tbody tr th:only-of-type {\n",
       "        vertical-align: middle;\n",
       "    }\n",
       "\n",
       "    .dataframe tbody tr th {\n",
       "        vertical-align: top;\n",
       "    }\n",
       "\n",
       "    .dataframe thead th {\n",
       "        text-align: right;\n",
       "    }\n",
       "</style>\n",
       "<table border=\"1\" class=\"dataframe\">\n",
       "  <thead>\n",
       "    <tr style=\"text-align: right;\">\n",
       "      <th></th>\n",
       "      <th>pack</th>\n",
       "      <th>iron</th>\n",
       "    </tr>\n",
       "  </thead>\n",
       "  <tbody>\n",
       "    <tr>\n",
       "      <th>0</th>\n",
       "      <td>vein</td>\n",
       "      <td>low</td>\n",
       "    </tr>\n",
       "    <tr>\n",
       "      <th>1</th>\n",
       "      <td>artery</td>\n",
       "      <td>normal</td>\n",
       "    </tr>\n",
       "    <tr>\n",
       "      <th>2</th>\n",
       "      <td>artery</td>\n",
       "      <td>normal</td>\n",
       "    </tr>\n",
       "    <tr>\n",
       "      <th>3</th>\n",
       "      <td>artery</td>\n",
       "      <td>normal</td>\n",
       "    </tr>\n",
       "    <tr>\n",
       "      <th>4</th>\n",
       "      <td>artery</td>\n",
       "      <td>high</td>\n",
       "    </tr>\n",
       "  </tbody>\n",
       "</table>\n",
       "</div>"
      ],
      "text/plain": [
       "     pack    iron\n",
       "0    vein     low\n",
       "1  artery  normal\n",
       "2  artery  normal\n",
       "3  artery  normal\n",
       "4  artery    high"
      ]
     },
     "execution_count": 12,
     "metadata": {},
     "output_type": "execute_result"
    }
   ],
   "source": [
    "iron.head()"
   ]
  },
  {
   "cell_type": "markdown",
   "id": "07516a28",
   "metadata": {},
   "source": [
    "11. Is there an association between the pack that a subscriber gets (Vein vs. Artery) and their iron level? Use the pandas `crosstab()` function to create a contingency table of the `pack` and `iron` columns in the `iron` data. Save the result as `Xtab` and print it out."
   ]
  },
  {
   "cell_type": "code",
   "execution_count": 13,
   "id": "d8bb8a8d",
   "metadata": {},
   "outputs": [
    {
     "name": "stdout",
     "output_type": "stream",
     "text": [
      "iron    high  low  normal\n",
      "pack                     \n",
      "artery    87   29      29\n",
      "vein      20  140      40\n"
     ]
    }
   ],
   "source": [
    "Xtab = pd.crosstab(iron.pack, iron.iron)\n",
    "print(Xtab)"
   ]
  },
  {
   "cell_type": "markdown",
   "id": "241920d9",
   "metadata": {},
   "source": [
    "12. We’d like to find out if there is a significant association between which pack (Vein vs. Artery) someone subscribes to and their iron level.\n",
    "\n",
    "    Import the statistical test from `scipy.stats` that we would use to test the following null and alternative hypotheses:\n",
    "\n",
    "    -    Null: There is NOT an association between which pack (Vein vs. Artery) someone subscribes to and their iron level.\n",
    "    -    Alternative: There is an association between which pack (Vein vs. Artery) someone subscribes to and their iron level."
   ]
  },
  {
   "cell_type": "code",
   "execution_count": 14,
   "id": "806643d8",
   "metadata": {},
   "outputs": [],
   "source": [
    "from scipy.stats import chi2_contingency"
   ]
  },
  {
   "cell_type": "markdown",
   "id": "7ab2ca05",
   "metadata": {},
   "source": [
    "13. Now that you’ve imported the function you need, run the significance test and print out the p-value! Is there a significant association between which pack (Vein vs. Artery) someone subscribes to and their iron level? Use a significance threshold of 0.05."
   ]
  },
  {
   "cell_type": "code",
   "execution_count": 15,
   "id": "e0924c69",
   "metadata": {},
   "outputs": [
    {
     "name": "stdout",
     "output_type": "stream",
     "text": [
      "9.359749337433008e-25 indicates a significant association between which pack someone subscribes to and their iron level.\n"
     ]
    }
   ],
   "source": [
    "chi2, pval, dof, expected = chi2_contingency(Xtab)\n",
    "if pval < 0.05:\n",
    "    print(str(pval) + ' indicates a significant association between which pack someone subscribes to and their iron level.')\n",
    "else:\n",
    "    print(str(pval) + ' indicates there is not a significant association between which pack someone subscribes to and their iron level.')"
   ]
  },
  {
   "cell_type": "code",
   "execution_count": null,
   "id": "742366af",
   "metadata": {},
   "outputs": [],
   "source": []
  }
 ],
 "metadata": {
  "kernelspec": {
   "display_name": "Python 3 (ipykernel)",
   "language": "python",
   "name": "python3"
  },
  "language_info": {
   "codemirror_mode": {
    "name": "ipython",
    "version": 3
   },
   "file_extension": ".py",
   "mimetype": "text/x-python",
   "name": "python",
   "nbconvert_exporter": "python",
   "pygments_lexer": "ipython3",
   "version": "3.9.7"
  }
 },
 "nbformat": 4,
 "nbformat_minor": 5
}
